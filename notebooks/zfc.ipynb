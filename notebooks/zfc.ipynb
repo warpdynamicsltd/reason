{
 "cells": [
  {
   "cell_type": "code",
   "id": "initial_id",
   "metadata": {
    "collapsed": true,
    "ExecuteTime": {
     "end_time": "2025-04-13T10:24:18.489137Z",
     "start_time": "2025-04-13T10:24:18.305468Z"
    }
   },
   "source": [
    "%load_ext autoreload\n",
    "%autoreload 2"
   ],
   "outputs": [],
   "execution_count": 1
  },
  {
   "metadata": {
    "ExecuteTime": {
     "end_time": "2025-04-13T10:24:42.866273Z",
     "start_time": "2025-04-13T10:24:42.590184Z"
    }
   },
   "cell_type": "code",
   "source": [
    "from reason.vampire import Vampire\n",
    "from reason.parser import Parser\n",
    "from reason.core.theory import Theory\n",
    "\n",
    "reason_parser = Parser()\n",
    "vampire_prover = Vampire()\n",
    "\n",
    "ZFC = Theory(parser=reason_parser, prover=vampire_prover)\n",
    "\n",
    "ZFC.add_const(\"∅\")\n",
    "\n",
    "ZFC.add_axiom(\"∀(x, y) x = y ⟷ (∀(z) z ∈ x ⟷ z ∈ y)\", name=\"a0\")\n",
    "ZFC.add_axiom(\"empty(e) ⟷ (∀(x) ~(x ∈ e))\", name=\"d1\")\n",
    "ZFC.add_axiom(\"empty(∅)\", name=\"a1\")\n",
    "ZFC.add_axiom(\"∀(x, z) z ∈ {x} ⟷ z = x\", name=\"a3\")\n",
    "ZFC.add_axiom(\"∀(x, y, z) z ∈ x ∪ y ⟷ z ∈ x ∨ z ∈ y\", name=\"a4\")\n",
    "ZFC.add_axiom(\"∀(x, y, z) z ∈ x ∩ y ⟷ z ∈ x ∧ z ∈ y\", name=\"a5\")\n",
    "ZFC.add_axiom(\"∀(x, y) x ⊂ y ⟷ (∀(z) z ∈ x → z ∈ y)\", name=\"d2\")\n",
    "ZFC.add_axiom(\"∀(x) ~(x = ∅) → (∃(y) y ∈ x ∧ y ∩ x = ∅)\", name=\"a6\")\n",
    "ZFC.add_axiom(\"{a, b} = {a} ∪ {b}\", name=\"d3\")\n",
    "ZFC.add_axiom(\"(a, b) = {a, {a, b}}\", name=\"d4\")\n",
    "\n",
    "ZFC.add_axiom(\"(a, b, c) = ((a, b), c)\", name=\"d5\")"
   ],
   "id": "53402a295c69689",
   "outputs": [],
   "execution_count": 5
  },
  {
   "metadata": {
    "ExecuteTime": {
     "end_time": "2025-04-13T10:24:28.826067Z",
     "start_time": "2025-04-13T10:24:28.778362Z"
    }
   },
   "cell_type": "code",
   "source": "ZFC.add_axiom(\"(a, b) = (x, y) → a = x ∧ b = y\", name=\"t1\")",
   "id": "2f70bc0471f750c1",
   "outputs": [],
   "execution_count": 3
  },
  {
   "metadata": {
    "ExecuteTime": {
     "end_time": "2025-04-13T10:25:59.377647Z",
     "start_time": "2025-04-13T10:24:49.715557Z"
    }
   },
   "cell_type": "code",
   "source": [
    "premise = \"(a, b, c) = (x, x, x)\"\n",
    "thesis = \"a = b\"\n",
    "\n",
    "proof = \"\"\"{\n",
    "    (a, b, c) = (x, x, x);\n",
    "    ∃z. {\n",
    "      z = (a, b, c);\n",
    "      z = ((a, b), c);\n",
    "      z = (x, x, x);\n",
    "      z = ((x, x), x);\n",
    "      ((a, b), c) = ((x, x), x);\n",
    "      (a, b) = (x, x);\n",
    "      a = x ∧ b = x;\n",
    "      a = b}\n",
    "    }\n",
    "\"\"\"\n",
    "\n",
    "print(ZFC.check_proof(premise, thesis, proof))"
   ],
   "id": "dcf2dd2f9c06efed",
   "outputs": [
    {
     "name": "stdout",
     "output_type": "stream",
     "text": [
      "True\n"
     ]
    }
   ],
   "execution_count": 6
  },
  {
   "metadata": {},
   "cell_type": "code",
   "source": "",
   "id": "d43865fb7b7afe17",
   "outputs": [],
   "execution_count": null
  }
 ],
 "metadata": {
  "kernelspec": {
   "display_name": "Python 3",
   "language": "python",
   "name": "python3"
  },
  "language_info": {
   "codemirror_mode": {
    "name": "ipython",
    "version": 2
   },
   "file_extension": ".py",
   "mimetype": "text/x-python",
   "name": "python",
   "nbconvert_exporter": "python",
   "pygments_lexer": "ipython2",
   "version": "2.7.6"
  }
 },
 "nbformat": 4,
 "nbformat_minor": 5
}
