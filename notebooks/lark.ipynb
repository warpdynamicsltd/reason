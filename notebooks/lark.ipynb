{
 "cells": [
  {
   "cell_type": "code",
   "execution_count": 1,
   "metadata": {},
   "outputs": [
    {
     "name": "stdout",
     "output_type": "stream",
     "text": [
      "Tree(Token('RULE', 'start'), [Token('WORD', 'Hello'), Token('WORD', 'World')])\n"
     ]
    }
   ],
   "source": [
    "from lark import Lark\n",
    "\n",
    "l = Lark('''start: WORD \",\" WORD \"!\"\n",
    "\n",
    "            %import common.WORD   // imports from terminal library\n",
    "            %ignore \" \"           // Disregard spaces in text\n",
    "         ''')\n",
    "\n",
    "print( l.parse(\"Hello, World!\") )"
   ]
  },
  {
   "cell_type": "code",
   "execution_count": 64,
   "metadata": {},
   "outputs": [],
   "source": [
    "with open(\"reason.lark\") as f:\n",
    "  l = Lark(f.read())"
   ]
  },
  {
   "cell_type": "code",
   "execution_count": 59,
   "metadata": {},
   "outputs": [
    {
     "data": {
      "text/plain": [
       "Tree(Token('RULE', 'start'), [Tree(Token('RULE', 'composed_abstract_term'), [Tree(Token('RULE', 'fname'), [Token('CNAME', 'A')]), Tree(Token('RULE', 'abstract_term_list'), [Tree(Token('RULE', 'atom_term'), [Token('CNAME', 'X')]), Tree(Token('RULE', 'composed_abstract_term'), [Tree(Token('RULE', 'fname'), [Token('CNAME', 'P')]), Tree(Token('RULE', 'abstract_term_list'), [Tree(Token('RULE', 'atom_term'), [Token('CNAME', 'Z')]), Tree(Token('RULE', 'composed_abstract_term'), [Tree(Token('RULE', 'fname'), [Token('CNAME', 'X')]), Tree(Token('RULE', 'abstract_term_list'), [Tree(Token('RULE', 'atom_term'), [Token('CNAME', 'Y')]), Tree(Token('RULE', 'atom_term'), [Token('CNAME', 'Z')])])])])])])])])"
      ]
     },
     "execution_count": 59,
     "metadata": {},
     "output_type": "execute_result"
    }
   ],
   "source": [
    "l.parse(\"A(X, P(Z, X(Y, Z)))\")"
   ]
  },
  {
   "cell_type": "code",
   "execution_count": 65,
   "metadata": {},
   "outputs": [],
   "source": [
    "from lark import Transformer\n",
    "from reason.core import AbstractTerm\n",
    "\n",
    "class TreeToAbstractTerm(Transformer):\n",
    "  def atom_term(self, s):\n",
    "    (s,) = s\n",
    "    return AbstractTerm(s)\n",
    "  \n",
    "  def fname(self, s):\n",
    "    (s,) = s\n",
    "    return s\n",
    "  \n",
    "  def abstract_term_list(self, terms):\n",
    "    return list(terms)\n",
    "  \n",
    "  def composed_abstract_term(self, s):\n",
    "    fname, term_list = s\n",
    "    return AbstractTerm(fname, *term_list)\n",
    "  \n"
   ]
  },
  {
   "cell_type": "code",
   "execution_count": 66,
   "metadata": {},
   "outputs": [],
   "source": [
    "tree = l.parse(\"A(X, P(Z, X(Y, Z)))\")"
   ]
  },
  {
   "cell_type": "code",
   "execution_count": 67,
   "metadata": {},
   "outputs": [
    {
     "data": {
      "text/plain": [
       "A(X, P(Z, X(Y, Z)))"
      ]
     },
     "execution_count": 67,
     "metadata": {},
     "output_type": "execute_result"
    }
   ],
   "source": [
    "TreeToAbstractTerm().transform(tree)"
   ]
  }
 ],
 "metadata": {
  "kernelspec": {
   "display_name": ".venv",
   "language": "python",
   "name": "python3"
  },
  "language_info": {
   "codemirror_mode": {
    "name": "ipython",
    "version": 3
   },
   "file_extension": ".py",
   "mimetype": "text/x-python",
   "name": "python",
   "nbconvert_exporter": "python",
   "pygments_lexer": "ipython3",
   "version": "3.10.14"
  }
 },
 "nbformat": 4,
 "nbformat_minor": 2
}
