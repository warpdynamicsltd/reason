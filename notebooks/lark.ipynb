{
 "cells": [
  {
   "cell_type": "code",
   "execution_count": 85,
   "metadata": {},
   "outputs": [],
   "source": [
    "from lark import Lark\n",
    "\n",
    "with open(\"reason.lark\") as f:\n",
    "  reason_parser = Lark(f.read(), start='abstract_term', lexer='basic')\n"
   ]
  },
  {
   "cell_type": "code",
   "execution_count": 86,
   "metadata": {},
   "outputs": [],
   "source": [
    "from lark import Transformer\n",
    "from reason.core import AbstractTerm\n",
    "\n",
    "class TreeToAbstractTerm(Transformer):\n",
    "  def atom_term(self, s):\n",
    "    (s,) = s\n",
    "    return AbstractTerm(s)\n",
    "  \n",
    "  def fname(self, s):\n",
    "    (s,) = s\n",
    "    return s\n",
    "  \n",
    "  def abstract_term_list(self, terms):\n",
    "    return list(terms)\n",
    "  \n",
    "  def composed_abstract_term(self, s):\n",
    "    fname, term_list = s\n",
    "    return AbstractTerm(fname, *term_list)\n",
    "  \n"
   ]
  },
  {
   "cell_type": "code",
   "execution_count": 87,
   "metadata": {},
   "outputs": [],
   "source": [
    "tree = reason_parser.parse(\"A(X, P(Z, X(Y, Z)))\")"
   ]
  },
  {
   "cell_type": "code",
   "execution_count": 88,
   "metadata": {},
   "outputs": [
    {
     "data": {
      "text/plain": [
       "A(X, P(Z, X(Y, Z)))"
      ]
     },
     "execution_count": 88,
     "metadata": {},
     "output_type": "execute_result"
    }
   ],
   "source": [
    "TreeToAbstractTerm().transform(tree)"
   ]
  }
 ],
 "metadata": {
  "kernelspec": {
   "display_name": ".venv",
   "language": "python",
   "name": "python3"
  },
  "language_info": {
   "codemirror_mode": {
    "name": "ipython",
    "version": 3
   },
   "file_extension": ".py",
   "mimetype": "text/x-python",
   "name": "python",
   "nbconvert_exporter": "python",
   "pygments_lexer": "ipython3",
   "version": "3.10.14"
  }
 },
 "nbformat": 4,
 "nbformat_minor": 2
}
