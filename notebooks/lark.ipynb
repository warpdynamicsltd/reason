{
 "cells": [
  {
   "cell_type": "code",
   "execution_count": 7,
   "metadata": {},
   "outputs": [],
   "source": [
    "from lark import Transformer\n",
    "from reason.core import AbstractTerm\n",
    "\n",
    "class TreeToAbstractTerm(Transformer):\n",
    "  def atom_term(self, s):\n",
    "    (s,) = s\n",
    "    return AbstractTerm(s)\n",
    "  \n",
    "  def brk(self, s):\n",
    "    (s,) = s\n",
    "    return s\n",
    "  \n",
    "  def fname(self, s):\n",
    "    (s,) = s\n",
    "    return s\n",
    "  \n",
    "  def abstract_term_list(self, terms):\n",
    "    return list(terms)\n",
    "  \n",
    "  def composed_abstract_term(self, s):\n",
    "    fname, term_list = s\n",
    "    return AbstractTerm(fname, *term_list)\n",
    "  \n",
    "  def neg(self, s):\n",
    "    (s,) = s\n",
    "    return AbstractTerm(\"NEG\", s)\n",
    "  \n",
    "  def _or(self, s):\n",
    "    a, b = s\n",
    "    return AbstractTerm(\"OR\", a, b)\n",
    "  \n",
    "  def _and(self, s):\n",
    "    a, b = s\n",
    "    return AbstractTerm(\"AND\", a, b)\n",
    "  \n",
    "  def _impl(self, s):\n",
    "    a, b = s\n",
    "    return AbstractTerm(\"IMP\", a, b)\n",
    "  \n",
    "  def __default__(self, data, children, meta):\n",
    "    (s,) = children\n",
    "    return s\n",
    "  \n"
   ]
  },
  {
   "cell_type": "code",
   "execution_count": 8,
   "metadata": {},
   "outputs": [],
   "source": [
    "from lark import Lark\n",
    "\n",
    "with open(\"reason.lark\") as f:\n",
    "  reason_parser = Lark(f.read(), start='logic_simple', lexer='basic')\n"
   ]
  },
  {
   "cell_type": "code",
   "execution_count": 11,
   "metadata": {},
   "outputs": [],
   "source": [
    "tree = reason_parser.parse(\"(P → Q) and P → Q\")"
   ]
  },
  {
   "cell_type": "code",
   "execution_count": 12,
   "metadata": {},
   "outputs": [
    {
     "data": {
      "text/plain": [
       "IMP(AND(IMP(P, Q), P), Q)"
      ]
     },
     "execution_count": 12,
     "metadata": {},
     "output_type": "execute_result"
    }
   ],
   "source": [
    "TreeToAbstractTerm().transform(tree)"
   ]
  }
 ],
 "metadata": {
  "kernelspec": {
   "display_name": ".venv",
   "language": "python",
   "name": "python3"
  },
  "language_info": {
   "codemirror_mode": {
    "name": "ipython",
    "version": 3
   },
   "file_extension": ".py",
   "mimetype": "text/x-python",
   "name": "python",
   "nbconvert_exporter": "python",
   "pygments_lexer": "ipython3",
   "version": "3.8.10"
  }
 },
 "nbformat": 4,
 "nbformat_minor": 2
}
