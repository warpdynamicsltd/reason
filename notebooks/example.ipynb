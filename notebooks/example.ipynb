{
 "cells": [
  {
   "cell_type": "code",
   "execution_count": 4,
   "metadata": {},
   "outputs": [
    {
     "name": "stdout",
     "output_type": "stream",
     "text": [
      "True\n",
      "True\n",
      "True\n"
     ]
    }
   ],
   "source": [
    "from reason.vampire import Vampire\n",
    "from reason.parser import Parser\n",
    "from reason.core.theory import Theory\n",
    "\n",
    "reason_parser = Parser()\n",
    "vampire_prover = Vampire()\n",
    "\n",
    "ZFC = Theory(parser=reason_parser, prover=vampire_prover)\n",
    "\n",
    "ZFC.add_const(\"∅\")\n",
    "\n",
    "ZFC.add_axiom(\"∀(x, y) x = y ⟷ (∀(z) z ∈ x ⟷ z ∈ y)\", name=\"a0\")\n",
    "ZFC.add_axiom(\"empty(e) ⟷ (∀(x) ~(x ∈ e))\", name=\"d1\")\n",
    "ZFC.add_axiom(\"empty(∅)\", name=\"a1\")\n",
    "ZFC.add_axiom(\"∀(x, z) z ∈ s(x) ⟷ z = x\", name=\"a3\")\n",
    "ZFC.add_axiom(\"∀(x, y, z) z ∈ x ∪ y ⟷ z ∈ x ∨ z ∈ y\", name='a4')\n",
    "ZFC.add_axiom(\"∀(x, y, z) z ∈ x ∩ y ⟷ z ∈ x ∧ z ∈ y\", name='a5')\n",
    "ZFC.add_axiom(\"∀(x, y) x ⊂ y ⟷ (∀(z) z ∈ x → z ∈ y)\", name='d2')\n",
    "\n",
    "print(ZFC(\"∀(x) empty(x) → x = ∅\"))\n",
    "print(ZFC(\"∀(x, y) s(x) = s(y) → x = y\"))\n",
    "print(ZFC(\"∀(x, y) x ∩ y ⊂ x ∪ y\"))\n"
   ]
  }
 ],
 "metadata": {
  "kernelspec": {
   "display_name": ".venv",
   "language": "python",
   "name": "python3"
  },
  "language_info": {
   "codemirror_mode": {
    "name": "ipython",
    "version": 3
   },
   "file_extension": ".py",
   "mimetype": "text/x-python",
   "name": "python",
   "nbconvert_exporter": "python",
   "pygments_lexer": "ipython3",
   "version": "3.12.8"
  }
 },
 "nbformat": 4,
 "nbformat_minor": 2
}
