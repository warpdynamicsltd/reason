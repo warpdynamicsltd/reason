{
 "cells": [
  {
   "cell_type": "code",
   "execution_count": 7,
   "metadata": {},
   "outputs": [],
   "source": [
    "%load_ext autoreload\n",
    "%autoreload 2"
   ]
  },
  {
   "cell_type": "code",
   "execution_count": 14,
   "metadata": {},
   "outputs": [],
   "source": [
    "from reason.core import AbstractTerm, Variable\n",
    "from reason.core.transform import explode_over_conjunctions\n",
    "from reason.vampire.translator import to_fof\n",
    "from reason.parser import Parser\n",
    "parser = Parser()"
   ]
  },
  {
   "cell_type": "code",
   "execution_count": 9,
   "metadata": {},
   "outputs": [],
   "source": [
    "import logging\n",
    "import sys\n",
    "\n",
    "# Configure the logging\n",
    "logging.basicConfig(\n",
    "    level=logging.DEBUG,  # Set the logging level to DEBUG\n",
    "    format='%(asctime)s - %(name)s - %(levelname)s - %(message)s',  # Log format\n",
    "    handlers=[\n",
    "        logging.StreamHandler(sys.stdout)  # Log to standard output\n",
    "    ]\n",
    ")"
   ]
  },
  {
   "cell_type": "code",
   "execution_count": 10,
   "metadata": {},
   "outputs": [
    {
     "name": "stdout",
     "output_type": "stream",
     "text": [
      "\n",
      "\n",
      "logic_simple: logic_level_8\n",
      "\n",
      "logic_level_0: abstract_term | \"(\" logic_simple \")\" -> brk | \"{\" logic_simple_list \"}\" -> conj_formula \n",
      "\n",
      "OP2_1.1: \"∩\"\n",
      "OP2_2.1: \"∪\"\n",
      "OP2_3.1: \"∈\"| \"=\"| \"⊂\"\n",
      "OP1_4.1: \"~\"\n",
      "OP2_5.1: \"and\"| \"∧\"\n",
      "OP2_6.1: \"or\"| \"∨\"\n",
      "OP2_7.1: \"→\"| \"⇒\"| \"⟷\"| \"⇔\"\n",
      "OP1_8.1: \"∀\"| \"∃\"\n",
      "\n",
      "logic_level_1: logic_level_1 OP2_1 logic_level_0 -> _op2 | logic_level_0\n",
      "logic_level_2: logic_level_2 OP2_2 logic_level_1 -> _op2 | logic_level_1\n",
      "logic_level_3: logic_level_3 OP2_3 logic_level_2 -> _op2 | logic_level_2\n",
      "logic_level_4: OP1_4 logic_level_3 -> _op1 | logic_level_3\n",
      "logic_level_5: logic_level_5 OP2_5 logic_level_4 -> _op2 | logic_level_4\n",
      "logic_level_6: logic_level_6 OP2_6 logic_level_5 -> _op2 | logic_level_5\n",
      "logic_level_7: logic_level_7 OP2_7 logic_level_6 -> _op2 | logic_level_6\n",
      "logic_level_8: OP1_8 \"(\" abstract_term_list \")\" logic_level_8 -> _op_quant | logic_level_7\n",
      "\n",
      "\n"
     ]
    }
   ],
   "source": [
    "print(parser.ogc.create_lark_code())"
   ]
  },
  {
   "cell_type": "code",
   "execution_count": 20,
   "metadata": {},
   "outputs": [],
   "source": [
    "from reason.core.theory import Theory\n",
    "from reason.vampire import Vampire\n",
    "vampire_prover = Vampire(verbose=False)\n",
    "ZFC = Theory(parser, vampire_prover)\n",
    "\n",
    "ZFC.add_const(\"∅\")\n",
    "\n",
    "ZFC.add_axiom(\"∀(x, y) x = y ⟷ (∀(z) z ∈ x ⟷ z ∈ y)\", name=\"a0\")\n",
    "ZFC.add_axiom(\"empty(e) ⟷ (∀(x) ~(x ∈ e))\", name=\"d1\")\n",
    "ZFC.add_axiom(\"empty(∅)\", name=\"a1\")\n",
    "ZFC.add_axiom(\"∀(x, z) z ∈ s(x) ⟷ z = x\", name=\"a3\")\n",
    "ZFC.add_axiom(\"∀(x, y, z) z ∈ x ∪ y ⟷ z ∈ x ∨ z ∈ y\", name='a4')\n",
    "ZFC.add_axiom(\"∀(x, y, z) z ∈ x ∩ y ⟷ z ∈ x ∧ z ∈ y\", name='a5')\n",
    "ZFC.add_axiom(\"∀(x, y) x ⊂ y ⟷ (∀(z) z ∈ x → z ∈ y)\", name='d2')\n",
    "\n",
    "ZFC.add_formula(\"∀(z) z ∈ a ∩ (b ∪ c) → z ∈ (a ∩ b) ∪ (a ∩ c)\", name='t1', type=\"theorem\")\n",
    "ZFC.add_formula(\"∀(z) z ∈ (a ∩ b) ∪ (a ∩ c) → z ∈ a ∩ (b ∪ c)\", name='t2', type=\"theorem\")\n",
    "\n",
    "# ZFC.add_formula(\"(x = z ∧ z = y) → ((((∀(k) k ∈ x ⟷ k ∈ z) ∧ (∀(k) k ∈ z ⟷ k ∈ y) → (∀(k) (k ∈ x ⟷ k ∈ y)))) → (x = y))\", \n",
    "#                 name=\"t3\",\n",
    "#                 type=\"theorem\")\n",
    "\n",
    "# ZFC.add_formula(\"~(s(x) ∩ s(y) = ∅) → (∃(z) z ∈ s(x) ∧ z ∈ s(y) ∧ z = x ∧ z = y)\", \n",
    "#                 name=\"t4\",\n",
    "#                 type=\"theorem\")"
   ]
  },
  {
   "cell_type": "code",
   "execution_count": null,
   "metadata": {},
   "outputs": [],
   "source": [
    "from reason.vampire.translator import to_fof"
   ]
  },
  {
   "cell_type": "code",
   "execution_count": 15,
   "metadata": {},
   "outputs": [],
   "source": [
    "formula = parser(\"\"\"∀(x, y){\n",
    "        ~(s(x) ∩ s(y) = ∅);\n",
    "        (∃(z) z ∈ s(x) ∧ z ∈ s(y))}\"\"\")"
   ]
  },
  {
   "cell_type": "code",
   "execution_count": 16,
   "metadata": {},
   "outputs": [
    {
     "data": {
      "text/plain": [
       "[FORALL(x, FORALL(y, CONJUNCTION(NEG(EQ(INTERSECT(s(x), s(y)), ∅))))),\n",
       " FORALL(x, FORALL(y, CONJUNCTION(NEG(EQ(INTERSECT(s(x), s(y)), ∅)), EXISTS(z, AND(IN(z, s(x)), IN(z, s(y)))))))]"
      ]
     },
     "execution_count": 16,
     "metadata": {},
     "output_type": "execute_result"
    }
   ],
   "source": [
    "explode_over_conjunctions(formula)"
   ]
  },
  {
   "cell_type": "code",
   "execution_count": null,
   "metadata": {},
   "outputs": [],
   "source": [
    "ZFC(\"~(x ∈ y) ∧ (x ∈ y)\")"
   ]
  },
  {
   "cell_type": "code",
   "execution_count": 3,
   "metadata": {},
   "outputs": [
    {
     "data": {
      "text/plain": [
       "True"
      ]
     },
     "execution_count": 3,
     "metadata": {},
     "output_type": "execute_result"
    }
   ],
   "source": [
    "ZFC(\"~(s(x) ∩ s(y) = ∅) → x = y\")"
   ]
  },
  {
   "cell_type": "code",
   "execution_count": 28,
   "metadata": {},
   "outputs": [
    {
     "data": {
      "text/plain": [
       "True"
      ]
     },
     "execution_count": 28,
     "metadata": {},
     "output_type": "execute_result"
    }
   ],
   "source": [
    "ZFC(\"\"\"(∀(x, y, z, k)\n",
    "~(s(x) ∩ s(y) = ∅) and\n",
    "z ∈ s(x) ∧ z ∈ s(y) and\n",
    "z = x ∧ z = y and\n",
    "(k ∈ z ⟷ k ∈ x) ∧ (k ∈ z ⟷ k ∈ y) and\n",
    "(k ∈ x ⟷ k ∈ y) and\n",
    "x = y        \n",
    ") → ( ∀(x, y) ~(s(x) ∩ s(y) = ∅) → x = y )\"\"\")"
   ]
  },
  {
   "cell_type": "code",
   "execution_count": 30,
   "metadata": {},
   "outputs": [
    {
     "data": {
      "text/plain": [
       "True"
      ]
     },
     "execution_count": 30,
     "metadata": {},
     "output_type": "execute_result"
    }
   ],
   "source": [
    "ZFC(\"\"\"(\n",
    "~(s(x) ∩ s(y) = ∅) and\n",
    "z ∈ s(x) ∧ z ∈ s(y) and\n",
    "z = x ∧ z = y and\n",
    "(k ∈ z ⟷ k ∈ x) ∧ (k ∈ z ⟷ k ∈ y) and\n",
    "(k ∈ x ⟷ k ∈ y) and\n",
    "x = y        \n",
    ") → ( ~(s(x) ∩ s(y) = ∅) → x = y )\"\"\")"
   ]
  },
  {
   "cell_type": "code",
   "execution_count": 26,
   "metadata": {},
   "outputs": [
    {
     "data": {
      "text/plain": [
       "True"
      ]
     },
     "execution_count": 26,
     "metadata": {},
     "output_type": "execute_result"
    }
   ],
   "source": [
    "ZFC(\n",
    "  \"\"\"\n",
    "  (~(s(x) ∩ s(y) = ∅)) → ((∃(z) (z ∈ s(x) ∧ z ∈ s(y)) → (∃(z) ∀(k) (k ∈ z ⟷ k ∈ x) ∧ (k ∈ z ⟷ k ∈ y))))\n",
    "  \"\"\"\n",
    ")"
   ]
  },
  {
   "cell_type": "code",
   "execution_count": 23,
   "metadata": {},
   "outputs": [
    {
     "data": {
      "text/plain": [
       "True"
      ]
     },
     "execution_count": 23,
     "metadata": {},
     "output_type": "execute_result"
    }
   ],
   "source": [
    "ZFC(\"\"\"(~(s(x) ∩ s(y) = ∅)) → (\n",
    "~(s(x) ∩ s(y) = ∅) and\n",
    "(∃(z) (z ∈ s(x) ∧ z ∈ s(y) and\n",
    "z = x ∧ z = y and\n",
    "(∀(k)((k ∈ z ⟷ k ∈ x) ∧ (k ∈ z ⟷ k ∈ y) and\n",
    "(k ∈ x ⟷ k ∈ y) and\n",
    "x = y        \n",
    ")))))\"\"\")"
   ]
  },
  {
   "cell_type": "code",
   "execution_count": 12,
   "metadata": {},
   "outputs": [
    {
     "data": {
      "text/plain": [
       "True"
      ]
     },
     "execution_count": 12,
     "metadata": {},
     "output_type": "execute_result"
    }
   ],
   "source": [
    "ZFC(\"s(x) = s(y) → x = y\")"
   ]
  },
  {
   "cell_type": "code",
   "execution_count": 11,
   "metadata": {},
   "outputs": [
    {
     "name": "stdout",
     "output_type": "stream",
     "text": [
      "2025-01-25 12:28:24,323 - root - DEBUG - % input_syntax=auto not supported for standard input parsing, switching to tptp.\n",
      "% Refutation found. Thanks to Tanya!\n",
      "% SZS status Theorem for \n",
      "% SZS output start Proof for \n",
      "1. ! [X0] : ! [X1] : (f_EQ(X0,X1) <=> ! [X2] : (f_IN(X2,X0) <=> f_IN(X2,X1))) [input(axiom)]\n",
      "8. ! [X2] : (f_IN(X2,f_INTERSECT(X4,f_UNION(X5,X6))) => f_IN(X2,f_UNION(f_INTERSECT(X4,X5),f_INTERSECT(X4,X6)))) [input(assumption)]\n",
      "9. ! [X2] : (f_IN(X2,f_UNION(f_INTERSECT(X4,X5),f_INTERSECT(X4,X6))) => f_IN(X2,f_INTERSECT(X4,f_UNION(X5,X6)))) [input(assumption)]\n",
      "10. f_EQ(f_INTERSECT(X4,f_UNION(X5,X6)),f_UNION(f_INTERSECT(X4,X5),f_INTERSECT(X4,X6))) [input(conjecture)]\n",
      "11. ~! [X6,X4,X5] : f_EQ(f_INTERSECT(X4,f_UNION(X5,X6)),f_UNION(f_INTERSECT(X4,X5),f_INTERSECT(X4,X6))) [negated conjecture 10]\n",
      "12. ! [X0,X1] : (f_EQ(X0,X1) <=> ! [X2] : (f_IN(X2,X0) <=> f_IN(X2,X1))) [flattening 1]\n",
      "20. ! [X0] : (f_IN(X0,f_INTERSECT(X1,f_UNION(X2,X3))) => f_IN(X0,f_UNION(f_INTERSECT(X1,X2),f_INTERSECT(X1,X3)))) [rectify 8]\n",
      "21. ! [X3,X2,X1] : ! [X0] : (f_IN(X0,f_INTERSECT(X1,f_UNION(X2,X3))) => f_IN(X0,f_UNION(f_INTERSECT(X1,X2),f_INTERSECT(X1,X3)))) [closure 20]\n",
      "22. ! [X3,X2,X1,X0] : (f_IN(X0,f_INTERSECT(X1,f_UNION(X2,X3))) => f_IN(X0,f_UNION(f_INTERSECT(X1,X2),f_INTERSECT(X1,X3)))) [flattening 21]\n",
      "23. ! [X0] : (f_IN(X0,f_UNION(f_INTERSECT(X1,X2),f_INTERSECT(X1,X3))) => f_IN(X0,f_INTERSECT(X1,f_UNION(X2,X3)))) [rectify 9]\n",
      "24. ! [X3,X2,X1] : ! [X0] : (f_IN(X0,f_UNION(f_INTERSECT(X1,X2),f_INTERSECT(X1,X3))) => f_IN(X0,f_INTERSECT(X1,f_UNION(X2,X3)))) [closure 23]\n",
      "25. ! [X3,X2,X1,X0] : (f_IN(X0,f_UNION(f_INTERSECT(X1,X2),f_INTERSECT(X1,X3))) => f_IN(X0,f_INTERSECT(X1,f_UNION(X2,X3)))) [flattening 24]\n",
      "26. ~! [X0,X1,X2] : f_EQ(f_INTERSECT(X1,f_UNION(X2,X0)),f_UNION(f_INTERSECT(X1,X2),f_INTERSECT(X1,X0))) [rectify 11]\n",
      "29. ! [X3,X2,X1,X0] : (f_IN(X0,f_UNION(f_INTERSECT(X1,X2),f_INTERSECT(X1,X3))) | ~f_IN(X0,f_INTERSECT(X1,f_UNION(X2,X3)))) [ennf transformation 22]\n",
      "30. ! [X3,X2,X1,X0] : (f_IN(X0,f_INTERSECT(X1,f_UNION(X2,X3))) | ~f_IN(X0,f_UNION(f_INTERSECT(X1,X2),f_INTERSECT(X1,X3)))) [ennf transformation 25]\n",
      "31. ? [X0,X1,X2] : ~f_EQ(f_INTERSECT(X1,f_UNION(X2,X0)),f_UNION(f_INTERSECT(X1,X2),f_INTERSECT(X1,X0))) [ennf transformation 26]\n",
      "32. ! [X0,X1] : ((f_EQ(X0,X1) | ? [X2] : ((~f_IN(X2,X1) | ~f_IN(X2,X0)) & (f_IN(X2,X1) | f_IN(X2,X0)))) & (! [X2] : ((f_IN(X2,X0) | ~f_IN(X2,X1)) & (f_IN(X2,X1) | ~f_IN(X2,X0))) | ~f_EQ(X0,X1))) [nnf transformation 12]\n",
      "33. ! [X0,X1] : ((f_EQ(X0,X1) | ? [X2] : ((~f_IN(X2,X1) | ~f_IN(X2,X0)) & (f_IN(X2,X1) | f_IN(X2,X0)))) & (! [X3] : ((f_IN(X3,X0) | ~f_IN(X3,X1)) & (f_IN(X3,X1) | ~f_IN(X3,X0))) | ~f_EQ(X0,X1))) [rectify 32]\n",
      "34. ! [X0,X1] : (? [X2] : ((~f_IN(X2,X1) | ~f_IN(X2,X0)) & (f_IN(X2,X1) | f_IN(X2,X0))) => ((~f_IN(sK0(X0,X1),X1) | ~f_IN(sK0(X0,X1),X0)) & (f_IN(sK0(X0,X1),X1) | f_IN(sK0(X0,X1),X0)))) [choice axiom]\n",
      "35. ! [X0,X1] : ((f_EQ(X0,X1) | ((~f_IN(sK0(X0,X1),X1) | ~f_IN(sK0(X0,X1),X0)) & (f_IN(sK0(X0,X1),X1) | f_IN(sK0(X0,X1),X0)))) & (! [X3] : ((f_IN(X3,X0) | ~f_IN(X3,X1)) & (f_IN(X3,X1) | ~f_IN(X3,X0))) | ~f_EQ(X0,X1))) [skolemisation 33,34]\n",
      "41. ! [X0,X1,X2,X3] : (f_IN(X3,f_UNION(f_INTERSECT(X2,X1),f_INTERSECT(X2,X0))) | ~f_IN(X3,f_INTERSECT(X2,f_UNION(X1,X0)))) [rectify 29]\n",
      "42. ! [X0,X1,X2,X3] : (f_IN(X3,f_INTERSECT(X2,f_UNION(X1,X0))) | ~f_IN(X3,f_UNION(f_INTERSECT(X2,X1),f_INTERSECT(X2,X0)))) [rectify 30]\n",
      "43. ? [X0,X1,X2] : ~f_EQ(f_INTERSECT(X1,f_UNION(X2,X0)),f_UNION(f_INTERSECT(X1,X2),f_INTERSECT(X1,X0))) => ~f_EQ(f_INTERSECT(sK2,f_UNION(sK3,sK1)),f_UNION(f_INTERSECT(sK2,sK3),f_INTERSECT(sK2,sK1))) [choice axiom]\n",
      "44. ~f_EQ(f_INTERSECT(sK2,f_UNION(sK3,sK1)),f_UNION(f_INTERSECT(sK2,sK3),f_INTERSECT(sK2,sK1))) [skolemisation 31,43]\n",
      "47. f_IN(sK0(X0,X1),X1) | f_IN(sK0(X0,X1),X0) | f_EQ(X0,X1) [cnf transformation 35]\n",
      "48. ~f_IN(sK0(X0,X1),X1) | f_EQ(X0,X1) | ~f_IN(sK0(X0,X1),X0) [cnf transformation 35]\n",
      "59. f_IN(X3,f_UNION(f_INTERSECT(X2,X1),f_INTERSECT(X2,X0))) | ~f_IN(X3,f_INTERSECT(X2,f_UNION(X1,X0))) [cnf transformation 41]\n",
      "60. ~f_IN(X3,f_UNION(f_INTERSECT(X2,X1),f_INTERSECT(X2,X0))) | f_IN(X3,f_INTERSECT(X2,f_UNION(X1,X0))) [cnf transformation 42]\n",
      "61. ~f_EQ(f_INTERSECT(sK2,f_UNION(sK3,sK1)),f_UNION(f_INTERSECT(sK2,sK3),f_INTERSECT(sK2,sK1))) [cnf transformation 44]\n",
      "118. ~f_IN(sK0(X0,f_UNION(f_INTERSECT(X1,X2),f_INTERSECT(X1,X3))),f_INTERSECT(X1,f_UNION(X2,X3))) | f_EQ(X0,f_UNION(f_INTERSECT(X1,X2),f_INTERSECT(X1,X3))) | ~f_IN(sK0(X0,f_UNION(f_INTERSECT(X1,X2),f_INTERSECT(X1,X3))),X0) [resolution 59,48]\n",
      "124. f_IN(sK0(X0,f_UNION(f_INTERSECT(X1,X2),f_INTERSECT(X1,X3))),f_INTERSECT(X1,f_UNION(X2,X3))) | f_IN(sK0(X0,f_UNION(f_INTERSECT(X1,X2),f_INTERSECT(X1,X3))),X0) | f_EQ(X0,f_UNION(f_INTERSECT(X1,X2),f_INTERSECT(X1,X3))) [resolution 60,47]\n",
      "1110. f_IN(sK0(f_INTERSECT(X0,f_UNION(X1,X2)),f_UNION(f_INTERSECT(X0,X1),f_INTERSECT(X0,X2))),f_INTERSECT(X0,f_UNION(X1,X2))) | f_EQ(f_INTERSECT(X0,f_UNION(X1,X2)),f_UNION(f_INTERSECT(X0,X1),f_INTERSECT(X0,X2))) [factoring 124]\n",
      "17453. f_EQ(f_INTERSECT(X0,f_UNION(X1,X2)),f_UNION(f_INTERSECT(X0,X1),f_INTERSECT(X0,X2))) | f_EQ(f_INTERSECT(X0,f_UNION(X1,X2)),f_UNION(f_INTERSECT(X0,X1),f_INTERSECT(X0,X2))) | ~f_IN(sK0(f_INTERSECT(X0,f_UNION(X1,X2)),f_UNION(f_INTERSECT(X0,X1),f_INTERSECT(X0,X2))),f_INTERSECT(X0,f_UNION(X1,X2))) [resolution 1110,118]\n",
      "17474. f_EQ(f_INTERSECT(X0,f_UNION(X1,X2)),f_UNION(f_INTERSECT(X0,X1),f_INTERSECT(X0,X2))) | ~f_IN(sK0(f_INTERSECT(X0,f_UNION(X1,X2)),f_UNION(f_INTERSECT(X0,X1),f_INTERSECT(X0,X2))),f_INTERSECT(X0,f_UNION(X1,X2))) [duplicate literal removal 17453]\n",
      "17475. f_EQ(f_INTERSECT(X0,f_UNION(X1,X2)),f_UNION(f_INTERSECT(X0,X1),f_INTERSECT(X0,X2))) [subsumption resolution 17474,1110]\n",
      "26028. $false [resolution 17475,61]\n",
      "% SZS output end Proof for \n",
      "% ------------------------------\n",
      "% Version: Vampire 4.9 (Release build, commit 9b2f42326 on 2025-01-15 19:19:36 +0100)\n",
      "% Termination reason: Refutation\n",
      "\n",
      "% Time elapsed: 0.425 s\n",
      "% Peak memory usage: 79 MB\n",
      "% ------------------------------\n",
      "% ------------------------------\n",
      "\n"
     ]
    },
    {
     "data": {
      "text/plain": [
       "True"
      ]
     },
     "execution_count": 11,
     "metadata": {},
     "output_type": "execute_result"
    }
   ],
   "source": [
    "ZFC(\"a ∩ (b ∪ c) = (a ∩ b) ∪ (a ∩ c)\")"
   ]
  },
  {
   "cell_type": "code",
   "execution_count": 8,
   "metadata": {},
   "outputs": [
    {
     "name": "stdout",
     "output_type": "stream",
     "text": [
      "2025-01-25 11:55:41,474 - root - DEBUG - % input_syntax=auto not supported for standard input parsing, switching to tptp.\n",
      "% Refutation found. Thanks to Tanya!\n",
      "% SZS status Theorem for \n",
      "% SZS output start Proof for \n",
      "1. ! [X0] : ! [X1] : (f_EQ(X0,X1) <=> ! [X2] : (f_IN(X2,X0) <=> f_IN(X2,X1))) [input(axiom)]\n",
      "2. f_empty(X3) <=> ! [X0] : ~f_IN(X0,X3) [input(axiom)]\n",
      "8. ! [X0] : ! [X1] : ((f_empty(X1) & f_empty(X0)) => f_EQ(X0,X1)) [input(conjecture)]\n",
      "9. ~! [X0] : ! [X1] : ((f_empty(X1) & f_empty(X0)) => f_EQ(X0,X1)) [negated conjecture 8]\n",
      "10. ! [X0,X1] : (f_EQ(X0,X1) <=> ! [X2] : (f_IN(X2,X0) <=> f_IN(X2,X1))) [flattening 1]\n",
      "11. f_empty(X0) <=> ! [X1] : ~f_IN(X1,X0) [rectify 2]\n",
      "12. ! [X0] : (f_empty(X0) <=> ! [X1] : ~f_IN(X1,X0)) [closure 11]\n",
      "18. ~! [X0,X1] : ((f_empty(X1) & f_empty(X0)) => f_EQ(X0,X1)) [flattening 9]\n",
      "19. ! [X0] : (f_empty(X0) => ! [X1] : ~f_IN(X1,X0)) [unused predicate definition removal 12]\n",
      "20. ! [X0] : (! [X1] : ~f_IN(X1,X0) | ~f_empty(X0)) [ennf transformation 19]\n",
      "21. ? [X0,X1] : (~f_EQ(X0,X1) & (f_empty(X1) & f_empty(X0))) [ennf transformation 18]\n",
      "22. ? [X0,X1] : (~f_EQ(X0,X1) & f_empty(X1) & f_empty(X0)) [flattening 21]\n",
      "23. ! [X0,X1] : ((f_EQ(X0,X1) | ? [X2] : ((~f_IN(X2,X1) | ~f_IN(X2,X0)) & (f_IN(X2,X1) | f_IN(X2,X0)))) & (! [X2] : ((f_IN(X2,X0) | ~f_IN(X2,X1)) & (f_IN(X2,X1) | ~f_IN(X2,X0))) | ~f_EQ(X0,X1))) [nnf transformation 10]\n",
      "24. ! [X0,X1] : ((f_EQ(X0,X1) | ? [X2] : ((~f_IN(X2,X1) | ~f_IN(X2,X0)) & (f_IN(X2,X1) | f_IN(X2,X0)))) & (! [X3] : ((f_IN(X3,X0) | ~f_IN(X3,X1)) & (f_IN(X3,X1) | ~f_IN(X3,X0))) | ~f_EQ(X0,X1))) [rectify 23]\n",
      "25. ! [X0,X1] : (? [X2] : ((~f_IN(X2,X1) | ~f_IN(X2,X0)) & (f_IN(X2,X1) | f_IN(X2,X0))) => ((~f_IN(sK0(X0,X1),X1) | ~f_IN(sK0(X0,X1),X0)) & (f_IN(sK0(X0,X1),X1) | f_IN(sK0(X0,X1),X0)))) [choice axiom]\n",
      "26. ! [X0,X1] : ((f_EQ(X0,X1) | ((~f_IN(sK0(X0,X1),X1) | ~f_IN(sK0(X0,X1),X0)) & (f_IN(sK0(X0,X1),X1) | f_IN(sK0(X0,X1),X0)))) & (! [X3] : ((f_IN(X3,X0) | ~f_IN(X3,X1)) & (f_IN(X3,X1) | ~f_IN(X3,X0))) | ~f_EQ(X0,X1))) [skolemisation 24,25]\n",
      "32. ? [X0,X1] : (~f_EQ(X0,X1) & f_empty(X1) & f_empty(X0)) => (~f_EQ(sK1,sK2) & f_empty(sK2) & f_empty(sK1)) [choice axiom]\n",
      "33. ~f_EQ(sK1,sK2) & f_empty(sK2) & f_empty(sK1) [skolemisation 22,32]\n",
      "36. f_IN(sK0(X0,X1),X1) | f_IN(sK0(X0,X1),X0) | f_EQ(X0,X1) [cnf transformation 26]\n",
      "38. ~f_IN(X1,X0) | ~f_empty(X0) [cnf transformation 20]\n",
      "48. f_empty(sK1) [cnf transformation 33]\n",
      "49. f_empty(sK2) [cnf transformation 33]\n",
      "50. ~f_EQ(sK1,sK2) [cnf transformation 33]\n",
      "70. f_IN(sK0(X0,X1),X0) | f_EQ(X0,X1) | ~f_empty(X1) [resolution 36,38]\n",
      "106. f_EQ(X0,X1) | ~f_empty(X1) | ~f_empty(X0) [resolution 70,38]\n",
      "123. ~f_empty(sK2) | ~f_empty(sK1) [resolution 106,50]\n",
      "126. ~f_empty(sK1) [subsumption resolution 123,49]\n",
      "127. $false [subsumption resolution 126,48]\n",
      "% SZS output end Proof for \n",
      "% ------------------------------\n",
      "% Version: Vampire 4.9 (Release build, commit 9b2f42326 on 2025-01-15 19:19:36 +0100)\n",
      "% Termination reason: Refutation\n",
      "\n",
      "% Time elapsed: 0.002 s\n",
      "% Peak memory usage: 79 MB\n",
      "% ------------------------------\n",
      "% ------------------------------\n",
      "\n"
     ]
    },
    {
     "data": {
      "text/plain": [
       "True"
      ]
     },
     "execution_count": 8,
     "metadata": {},
     "output_type": "execute_result"
    }
   ],
   "source": [
    "ZFC(\"∀(x, y) empty(x) ∧ empty(y) → x = y\")"
   ]
  },
  {
   "cell_type": "code",
   "execution_count": 52,
   "metadata": {},
   "outputs": [
    {
     "data": {
      "text/plain": [
       "True"
      ]
     },
     "execution_count": 52,
     "metadata": {},
     "output_type": "execute_result"
    }
   ],
   "source": [
    "ZFC(\"empty(x) → x = ∅\")"
   ]
  },
  {
   "cell_type": "code",
   "execution_count": 53,
   "metadata": {},
   "outputs": [
    {
     "data": {
      "text/plain": [
       "True"
      ]
     },
     "execution_count": 53,
     "metadata": {},
     "output_type": "execute_result"
    }
   ],
   "source": [
    "ZFC(\"s(x) = s(y) → x = y\")"
   ]
  },
  {
   "cell_type": "code",
   "execution_count": 56,
   "metadata": {},
   "outputs": [
    {
     "data": {
      "text/plain": [
       "True"
      ]
     },
     "execution_count": 56,
     "metadata": {},
     "output_type": "execute_result"
    }
   ],
   "source": [
    "ZFC(\"∀(x, y, z) z = s(x) ∪ s(y) → x ∈ z ∧ y ∈ z\")"
   ]
  },
  {
   "cell_type": "code",
   "execution_count": 7,
   "metadata": {},
   "outputs": [
    {
     "data": {
      "text/plain": [
       "True"
      ]
     },
     "execution_count": 7,
     "metadata": {},
     "output_type": "execute_result"
    }
   ],
   "source": [
    "ZFC(\"~(s(x) ∩ s(y) = ∅) → (∃(z) z ∈ s(x) ∧ z ∈ s(y) ∧ z = x ∧ z = y)\")"
   ]
  },
  {
   "cell_type": "code",
   "execution_count": 31,
   "metadata": {},
   "outputs": [
    {
     "data": {
      "text/plain": [
       "True"
      ]
     },
     "execution_count": 31,
     "metadata": {},
     "output_type": "execute_result"
    }
   ],
   "source": [
    "ZFC(\"(z = x ∧ z = y) → x = y\")"
   ]
  },
  {
   "cell_type": "code",
   "execution_count": 9,
   "metadata": {},
   "outputs": [
    {
     "data": {
      "text/plain": [
       "True"
      ]
     },
     "execution_count": 9,
     "metadata": {},
     "output_type": "execute_result"
    }
   ],
   "source": [
    "ZFC(\"~(s(x) ∩ s(y) = ∅) → x = y\")"
   ]
  },
  {
   "cell_type": "code",
   "execution_count": 28,
   "metadata": {},
   "outputs": [
    {
     "data": {
      "text/plain": [
       "True"
      ]
     },
     "execution_count": 28,
     "metadata": {},
     "output_type": "execute_result"
    }
   ],
   "source": [
    "ZFC(\"~(s(x) ∩ s(y) = ∅) → (∃(z) z ∈ s(x) ∧ z ∈ s(y))\")"
   ]
  },
  {
   "cell_type": "code",
   "execution_count": 47,
   "metadata": {},
   "outputs": [
    {
     "data": {
      "text/plain": [
       "True"
      ]
     },
     "execution_count": 47,
     "metadata": {},
     "output_type": "execute_result"
    }
   ],
   "source": [
    "ZFC(\"∀(x, y, z) z ∈ s(x) ∧ z ∈ s(y) → z = x ∧ z = y\")"
   ]
  },
  {
   "cell_type": "code",
   "execution_count": null,
   "metadata": {},
   "outputs": [],
   "source": [
    "ZFC(\"∀(x, y, z) x = z ∧ z = y → x = y\")"
   ]
  },
  {
   "cell_type": "code",
   "execution_count": 25,
   "metadata": {},
   "outputs": [
    {
     "data": {
      "text/plain": [
       "True"
      ]
     },
     "execution_count": 25,
     "metadata": {},
     "output_type": "execute_result"
    }
   ],
   "source": [
    "ZFC(\"(x = z ∧ z = y) → ((((∀(k) k ∈ x ⟷ k ∈ z) ∧ (∀(k) k ∈ z ⟷ k ∈ y) → (∀(k) (k ∈ x ⟷ k ∈ y)))) → x = y)\")"
   ]
  }
 ],
 "metadata": {
  "kernelspec": {
   "display_name": ".venv",
   "language": "python",
   "name": "python3"
  },
  "language_info": {
   "codemirror_mode": {
    "name": "ipython",
    "version": 3
   },
   "file_extension": ".py",
   "mimetype": "text/x-python",
   "name": "python",
   "nbconvert_exporter": "python",
   "pygments_lexer": "ipython3",
   "version": "3.12.8"
  }
 },
 "nbformat": 4,
 "nbformat_minor": 2
}
